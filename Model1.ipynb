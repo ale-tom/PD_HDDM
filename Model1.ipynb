{
 "cells": [
  {
   "cell_type": "code",
   "execution_count": 9,
   "metadata": {
    "collapsed": true
   },
   "outputs": [],
   "source": [
    "import pandas as pd\n",
    "import matplotlib.pyplot as plt"
   ]
  },
  {
   "cell_type": "code",
   "execution_count": 2,
   "metadata": {
    "collapsed": false,
    "scrolled": true
   },
   "outputs": [
    {
     "name": "stderr",
     "output_type": "stream",
     "text": [
      "/Users/Ale/anaconda/lib/python3.5/site-packages/IPython/parallel.py:13: ShimWarning: The `IPython.parallel` package has been deprecated. You should import from ipyparallel instead.\n",
      "  \"You should import from ipyparallel instead.\", ShimWarning)\n"
     ]
    }
   ],
   "source": [
    "import hddm"
   ]
  },
  {
   "cell_type": "code",
   "execution_count": 3,
   "metadata": {
    "collapsed": false,
    "scrolled": true
   },
   "outputs": [
    {
     "name": "stdout",
     "output_type": "stream",
     "text": [
      "0.6.0\n"
     ]
    }
   ],
   "source": [
    "print(hddm.__version__)"
   ]
  },
  {
   "cell_type": "code",
   "execution_count": 4,
   "metadata": {
    "collapsed": false,
    "scrolled": true
   },
   "outputs": [
    {
     "data": {
      "text/html": [
       "<div>\n",
       "<table border=\"1\" class=\"dataframe\">\n",
       "  <thead>\n",
       "    <tr style=\"text-align: right;\">\n",
       "      <th></th>\n",
       "      <th>subj_idx</th>\n",
       "      <th>rt</th>\n",
       "      <th>response</th>\n",
       "      <th>group</th>\n",
       "      <th>conf</th>\n",
       "      <th>stim</th>\n",
       "    </tr>\n",
       "  </thead>\n",
       "  <tbody>\n",
       "    <tr>\n",
       "      <th>0</th>\n",
       "      <td>0</td>\n",
       "      <td>0.414</td>\n",
       "      <td>0</td>\n",
       "      <td>Control</td>\n",
       "      <td>SL</td>\n",
       "      <td>1</td>\n",
       "    </tr>\n",
       "    <tr>\n",
       "      <th>1</th>\n",
       "      <td>0</td>\n",
       "      <td>0.263</td>\n",
       "      <td>1</td>\n",
       "      <td>Control</td>\n",
       "      <td>SL</td>\n",
       "      <td>2</td>\n",
       "    </tr>\n",
       "    <tr>\n",
       "      <th>2</th>\n",
       "      <td>0</td>\n",
       "      <td>0.298</td>\n",
       "      <td>1</td>\n",
       "      <td>Control</td>\n",
       "      <td>SL</td>\n",
       "      <td>2</td>\n",
       "    </tr>\n",
       "    <tr>\n",
       "      <th>3</th>\n",
       "      <td>0</td>\n",
       "      <td>0.294</td>\n",
       "      <td>0</td>\n",
       "      <td>Control</td>\n",
       "      <td>SL</td>\n",
       "      <td>1</td>\n",
       "    </tr>\n",
       "    <tr>\n",
       "      <th>4</th>\n",
       "      <td>0</td>\n",
       "      <td>0.374</td>\n",
       "      <td>1</td>\n",
       "      <td>Control</td>\n",
       "      <td>SL</td>\n",
       "      <td>2</td>\n",
       "    </tr>\n",
       "  </tbody>\n",
       "</table>\n",
       "</div>"
      ],
      "text/plain": [
       "   subj_idx     rt  response    group conf  stim\n",
       "0         0  0.414         0  Control   SL     1\n",
       "1         0  0.263         1  Control   SL     2\n",
       "2         0  0.298         1  Control   SL     2\n",
       "3         0  0.294         0  Control   SL     1\n",
       "4         0  0.374         1  Control   SL     2"
      ]
     },
     "execution_count": 4,
     "metadata": {},
     "output_type": "execute_result"
    }
   ],
   "source": [
    "#load behavioural data\n",
    "data = hddm.load_csv('./PDrtChoiceFull.csv')\n",
    "\n",
    "#check format\n",
    "data.head()"
   ]
  },
  {
   "cell_type": "markdown",
   "metadata": {},
   "source": [
    "RT Distributions: 2 possible responses 1 - right 0 - wrong/left right (Choice). error RTs are flipped to be negative"
   ]
  },
  {
   "cell_type": "code",
   "execution_count": 5,
   "metadata": {
    "collapsed": false
   },
   "outputs": [
    {
     "name": "stdout",
     "output_type": "stream",
     "text": [
      "Setting model to be non-informative\n",
      "Adding z to includes.\n"
     ]
    }
   ],
   "source": [
    "#initialise model: Only boundary allowed to vary with uncertainty levels\n",
    "m_stimdrug = hddm.HDDMStimCoding(data,bias = 'True',include=('z', 'sv','st'), depends_on = {'v':'group','a':['group','conf'],'t':'group'},stim_col='stim')\n",
    "#random starting values\n",
    "m_stimdrug.find_starting_values()\n",
    "#fit the model\n",
    "m_stimdrug.sample(50000, burn=5000,dbname='Model1.db', db='pickle')\n"
   ]
  },
  {
   "cell_type": "code",
   "execution_count": 7,
   "metadata": {
    "collapsed": false
   },
   "outputs": [],
   "source": [
    "#save results\n",
    "m_stimdrug.print_stats('./stats_Model1.txt')"
   ]
  },
  {
   "cell_type": "code",
   "execution_count": null,
   "metadata": {
    "collapsed": true
   },
   "outputs": [],
   "source": [
    "## Postpredictive checks confirm a good fit of the model"
   ]
  },
  {
   "cell_type": "code",
   "execution_count": 10,
   "metadata": {
    "collapsed": false
   },
   "outputs": [
    {
     "name": "stdout",
     "output_type": "stream",
     "text": [
      " [-----------------100%-----------------] 379 of 376 complete in 2223.6 sec"
     ]
    }
   ],
   "source": [
    "ppc_data = hddm.utils.post_pred_gen(m_stimdrug)\n",
    "ppc_compare = hddm.utils.post_pred_stats(data,ppc_data)\n",
    "print(ppc_compare)"
   ]
  },
  {
   "cell_type": "code",
   "execution_count": 13,
   "metadata": {
    "collapsed": false
   },
   "outputs": [
    {
     "name": "stdout",
     "output_type": "stream",
     "text": [
      "          observed      mean       std       SEM       MSE credible  \\\n",
      "stat                                                                  \n",
      "accuracy  0.495411  0.491821  0.212764  0.000013  0.045281     True   \n",
      "mean_ub   0.372492  0.494114  0.127167  0.014792  0.030964     True   \n",
      "std_ub    0.105795  0.202163  0.085366  0.009287  0.016575     True   \n",
      "10q_ub    0.271000  0.316983  0.073007  0.002114  0.007445     True   \n",
      "30q_ub    0.315000  0.367732  0.096713  0.002781  0.012134     True   \n",
      "50q_ub    0.350000  0.431471  0.121918  0.006637  0.021502     True   \n",
      "70q_ub    0.395000  0.530756  0.154149  0.018430  0.042191     True   \n",
      "90q_ub    0.494000  0.742597  0.222409  0.061801  0.111268     True   \n",
      "mean_lb  -0.376103 -0.494151  0.126645  0.013935  0.029975     True   \n",
      "std_lb    0.111858  0.202757  0.084540  0.008262  0.015410     True   \n",
      "10q_lb    0.272000  0.316427  0.072245  0.001974  0.007193     True   \n",
      "30q_lb    0.316000  0.367414  0.096091  0.002643  0.011877     True   \n",
      "50q_lb    0.352000  0.431232  0.121145  0.006278  0.020954     True   \n",
      "70q_lb    0.397000  0.530883  0.153397  0.017925  0.041456     True   \n",
      "90q_lb    0.502000  0.743866  0.221272  0.058499  0.107462     True   \n",
      "\n",
      "           quantile  mahalanobis  \n",
      "stat                              \n",
      "accuracy  50.020214     0.016869  \n",
      "mean_ub   16.416489     0.956399  \n",
      "std_ub    10.100532     1.128881  \n",
      "10q_ub    32.418087     0.629854  \n",
      "30q_ub    37.753193     0.545247  \n",
      "50q_ub    30.907446     0.668243  \n",
      "70q_ub    19.298405     0.880677  \n",
      "90q_ub    10.422340     1.117746  \n",
      "mean_lb   82.360107     0.932114  \n",
      "std_lb    11.980319     1.075207  \n",
      "10q_lb    33.277126     0.614948  \n",
      "30q_lb    38.255852     0.535049  \n",
      "50q_lb    31.720213     0.654026  \n",
      "70q_lb    19.901596     0.872787  \n",
      "90q_lb    11.303191     1.093069  \n"
     ]
    }
   ],
   "source": [
    "print(ppc_compare)"
   ]
  }
 ],
 "metadata": {
  "kernelspec": {
   "display_name": "Python 3",
   "language": "python",
   "name": "python3"
  },
  "language_info": {
   "codemirror_mode": {
    "name": "ipython",
    "version": 3
   },
   "file_extension": ".py",
   "mimetype": "text/x-python",
   "name": "python",
   "nbconvert_exporter": "python",
   "pygments_lexer": "ipython3",
   "version": "3.6.5"
  }
 },
 "nbformat": 4,
 "nbformat_minor": 2
}
