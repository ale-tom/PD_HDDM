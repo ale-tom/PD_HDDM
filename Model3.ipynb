{
 "cells": [
  {
   "cell_type": "code",
   "execution_count": 1,
   "metadata": {
    "collapsed": true
   },
   "outputs": [],
   "source": [
    "import pandas as pd\n",
    "import matplotlib.pyplot as plt"
   ]
  },
  {
   "cell_type": "code",
   "execution_count": 2,
   "metadata": {
    "collapsed": false
   },
   "outputs": [
    {
     "name": "stderr",
     "output_type": "stream",
     "text": [
      "/Users/Ale/anaconda/lib/python3.5/site-packages/IPython/parallel.py:13: ShimWarning: The `IPython.parallel` package has been deprecated. You should import from ipyparallel instead.\n",
      "  \"You should import from ipyparallel instead.\", ShimWarning)\n"
     ]
    }
   ],
   "source": [
    "import hddm"
   ]
  },
  {
   "cell_type": "code",
   "execution_count": 3,
   "metadata": {
    "collapsed": false
   },
   "outputs": [
    {
     "name": "stdout",
     "output_type": "stream",
     "text": [
      "0.6.0\n"
     ]
    }
   ],
   "source": [
    "print(hddm.__version__)"
   ]
  },
  {
   "cell_type": "code",
   "execution_count": 4,
   "metadata": {
    "collapsed": false
   },
   "outputs": [
    {
     "data": {
      "text/html": [
       "<div>\n",
       "<table border=\"1\" class=\"dataframe\">\n",
       "  <thead>\n",
       "    <tr style=\"text-align: right;\">\n",
       "      <th></th>\n",
       "      <th>subj_idx</th>\n",
       "      <th>rt</th>\n",
       "      <th>response</th>\n",
       "      <th>group</th>\n",
       "      <th>conf</th>\n",
       "      <th>stim</th>\n",
       "    </tr>\n",
       "  </thead>\n",
       "  <tbody>\n",
       "    <tr>\n",
       "      <th>0</th>\n",
       "      <td>0</td>\n",
       "      <td>0.414</td>\n",
       "      <td>0</td>\n",
       "      <td>Control</td>\n",
       "      <td>SL</td>\n",
       "      <td>1</td>\n",
       "    </tr>\n",
       "    <tr>\n",
       "      <th>1</th>\n",
       "      <td>0</td>\n",
       "      <td>0.263</td>\n",
       "      <td>1</td>\n",
       "      <td>Control</td>\n",
       "      <td>SL</td>\n",
       "      <td>2</td>\n",
       "    </tr>\n",
       "    <tr>\n",
       "      <th>2</th>\n",
       "      <td>0</td>\n",
       "      <td>0.298</td>\n",
       "      <td>1</td>\n",
       "      <td>Control</td>\n",
       "      <td>SL</td>\n",
       "      <td>2</td>\n",
       "    </tr>\n",
       "    <tr>\n",
       "      <th>3</th>\n",
       "      <td>0</td>\n",
       "      <td>0.294</td>\n",
       "      <td>0</td>\n",
       "      <td>Control</td>\n",
       "      <td>SL</td>\n",
       "      <td>1</td>\n",
       "    </tr>\n",
       "    <tr>\n",
       "      <th>4</th>\n",
       "      <td>0</td>\n",
       "      <td>0.374</td>\n",
       "      <td>1</td>\n",
       "      <td>Control</td>\n",
       "      <td>SL</td>\n",
       "      <td>2</td>\n",
       "    </tr>\n",
       "    <tr>\n",
       "      <th>5</th>\n",
       "      <td>0</td>\n",
       "      <td>0.378</td>\n",
       "      <td>1</td>\n",
       "      <td>Control</td>\n",
       "      <td>SL</td>\n",
       "      <td>2</td>\n",
       "    </tr>\n",
       "    <tr>\n",
       "      <th>6</th>\n",
       "      <td>0</td>\n",
       "      <td>0.353</td>\n",
       "      <td>1</td>\n",
       "      <td>Control</td>\n",
       "      <td>SL</td>\n",
       "      <td>2</td>\n",
       "    </tr>\n",
       "    <tr>\n",
       "      <th>7</th>\n",
       "      <td>0</td>\n",
       "      <td>0.272</td>\n",
       "      <td>1</td>\n",
       "      <td>Control</td>\n",
       "      <td>SL</td>\n",
       "      <td>2</td>\n",
       "    </tr>\n",
       "    <tr>\n",
       "      <th>8</th>\n",
       "      <td>0</td>\n",
       "      <td>0.402</td>\n",
       "      <td>1</td>\n",
       "      <td>Control</td>\n",
       "      <td>SL</td>\n",
       "      <td>2</td>\n",
       "    </tr>\n",
       "    <tr>\n",
       "      <th>9</th>\n",
       "      <td>0</td>\n",
       "      <td>0.317</td>\n",
       "      <td>0</td>\n",
       "      <td>Control</td>\n",
       "      <td>SL</td>\n",
       "      <td>1</td>\n",
       "    </tr>\n",
       "  </tbody>\n",
       "</table>\n",
       "</div>"
      ],
      "text/plain": [
       "   subj_idx     rt  response    group conf  stim\n",
       "0         0  0.414         0  Control   SL     1\n",
       "1         0  0.263         1  Control   SL     2\n",
       "2         0  0.298         1  Control   SL     2\n",
       "3         0  0.294         0  Control   SL     1\n",
       "4         0  0.374         1  Control   SL     2\n",
       "5         0  0.378         1  Control   SL     2\n",
       "6         0  0.353         1  Control   SL     2\n",
       "7         0  0.272         1  Control   SL     2\n",
       "8         0  0.402         1  Control   SL     2\n",
       "9         0  0.317         0  Control   SL     1"
      ]
     },
     "execution_count": 4,
     "metadata": {},
     "output_type": "execute_result"
    }
   ],
   "source": [
    "#Load behvaioural data\n",
    "data = hddm.load_csv('./PDrtChoiceFull.csv')\n",
    "\n",
    "#Check format\n",
    "data.head(10)"
   ]
  },
  {
   "cell_type": "markdown",
   "metadata": {},
   "source": [
    "RT Distributions: 2 possible responses 1 - right 0 - wrong/left right (Choice). error RTs are flipped to be negative"
   ]
  },
  {
   "cell_type": "code",
   "execution_count": 5,
   "metadata": {
    "collapsed": false
   },
   "outputs": [
    {
     "name": "stdout",
     "output_type": "stream",
     "text": [
      "Setting model to be non-informative\n",
      "Adding z to includes.\n",
      " [-----------------100%-----------------] 50001 of 50000 complete in 55931.6 sec"
     ]
    },
    {
     "data": {
      "text/plain": [
       "<pymc.MCMC.MCMC at 0x11baf6c18>"
      ]
     },
     "execution_count": 5,
     "metadata": {},
     "output_type": "execute_result"
    }
   ],
   "source": [
    "#Initiate model: bound and drift vary with uncertainty levels\n",
    "m_stimdrug = hddm.HDDMStimCoding(data,bias = 'True',include=('z', 'sv','st'), depends_on = {'a':['group','conf'],'v':['group','conf'],'t':'group'},stim_col='stim')\n",
    "#Initiate with random values\n",
    "m_stimdrug.find_starting_values()\n",
    "#Fit the model\n",
    "m_stimdrug.sample(50000, burn=5000,dbname='Model3.db', db='pickle')\n"
   ]
  },
  {
   "cell_type": "code",
   "execution_count": 7,
   "metadata": {
    "collapsed": false
   },
   "outputs": [],
   "source": [
    "#Save results\n",
    "m_stimdrug.print_stats('./stats_Model3.txt')"
   ]
  }
 ],
 "metadata": {
  "kernelspec": {
   "display_name": "Python 3",
   "language": "python",
   "name": "python3"
  },
  "language_info": {
   "codemirror_mode": {
    "name": "ipython",
    "version": 3
   },
   "file_extension": ".py",
   "mimetype": "text/x-python",
   "name": "python",
   "nbconvert_exporter": "python",
   "pygments_lexer": "ipython3",
   "version": "3.6.5"
  }
 },
 "nbformat": 4,
 "nbformat_minor": 2
}
